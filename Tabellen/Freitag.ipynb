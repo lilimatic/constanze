{
 "cells": [
  {
   "cell_type": "markdown",
   "metadata": {},
   "source": [
    "### Je höher die Bewertung von „hoch/laut/abwechslungsreich/“, desto höher die Bewertung von „gewagt/temperamentvoll/unsensibel/modern/unaufrichtig“\n",
    "H8: Je höher die Bewertung von „tief/leise/monoton/“, desto höher die Bewertung von „bodenständig/ruhig/einfühlsam/traditionell/aufrichtig“m"
   ]
  },
  {
   "cell_type": "markdown",
   "metadata": {},
   "source": [
    "# Cramer's V"
   ]
  },
  {
   "cell_type": "code",
   "execution_count": 1,
   "metadata": {},
   "outputs": [
    {
     "name": "stderr",
     "output_type": "stream",
     "text": [
      "/Users/lilimatic/opt/anaconda3/lib/python3.8/site-packages/pandas/core/computation/expressions.py:20: UserWarning: Pandas requires version '2.7.3' or newer of 'numexpr' (version '2.7.1' currently installed).\n",
      "  from pandas.core.computation.check import NUMEXPR_INSTALLED\n"
     ]
    }
   ],
   "source": [
    "import pandas as pd \n",
    "import os\n",
    "\n",
    "import numpy as np\n",
    "import matplotlib.pyplot as plt\n",
    "from scipy.stats import chi2_contingency\n",
    "import scipy.stats as stats \n",
    "\n",
    "#import seaborn as sns\n",
    "import researchpy as rp\n",
    "\n",
    "import openpyxl"
   ]
  },
  {
   "cell_type": "code",
   "execution_count": 2,
   "metadata": {},
   "outputs": [
    {
     "data": {
      "text/plain": [
       "'/Users/lilimatic/constanze'"
      ]
     },
     "execution_count": 2,
     "metadata": {},
     "output_type": "execute_result"
    }
   ],
   "source": [
    "os.getcwd()"
   ]
  },
  {
   "cell_type": "code",
   "execution_count": 3,
   "metadata": {},
   "outputs": [],
   "source": [
    "path = 'data_perzeptionstest-vocal-branding_2024-02-10_11-56.csv'\n",
    "\n",
    "df = pd.read_csv(path,sep=';',encoding='latin-1')\n",
    "\n",
    "df =df.drop(columns=['CASE','SERIAL','REF','QUESTNNR','MODE','MAILSENT','LASTDATA','STARTED']+['TIME00'+str(x) for x in range(1,10)]+['TIME0'+str(x) for x in range(10,18)])\n",
    "\n",
    "df = df.dropna()\n",
    "\n",
    "spalten = []\n",
    "\n",
    "for x in df.loc[0]:\n",
    "    spalten.append(x)\n",
    "    \n",
    "#df.drop(df.index[0])\n",
    "\n",
    "df.columns = spalten\n",
    "\n",
    "df = df.reset_index()\n",
    "\n",
    "df = df.drop(df.index[0])"
   ]
  },
  {
   "cell_type": "code",
   "execution_count": 4,
   "metadata": {},
   "outputs": [],
   "source": [
    "sprecher = []\n",
    "\n",
    "for x in range(1,8):\n",
    "    for y in range(1,3):\n",
    "        sprecher.append(f'S{x}.{y}')"
   ]
  },
  {
   "cell_type": "code",
   "execution_count": 5,
   "metadata": {},
   "outputs": [
    {
     "name": "stdout",
     "output_type": "stream",
     "text": [
      "\u001b[1mPolaritätsprofil S2.1: leise/laut und Polaritätsprofil S2.1: modern/traditionell\n"
     ]
    },
    {
     "ename": "NameError",
     "evalue": "name 'Namen' is not defined",
     "output_type": "error",
     "traceback": [
      "\u001b[0;31m---------------------------------------------------------------------------\u001b[0m",
      "\u001b[0;31mNameError\u001b[0m                                 Traceback (most recent call last)",
      "\u001b[0;32m<ipython-input-5-c3d0395d2c21>\u001b[0m in \u001b[0;36m<module>\u001b[0;34m\u001b[0m\n\u001b[1;32m     12\u001b[0m         \u001b[0;32mif\u001b[0m \u001b[0;34m(\u001b[0m\u001b[0mres\u001b[0m\u001b[0;34m[\u001b[0m\u001b[0;34m'results'\u001b[0m\u001b[0;34m]\u001b[0m\u001b[0;34m[\u001b[0m\u001b[0;36m1\u001b[0m\u001b[0;34m]\u001b[0m \u001b[0;34m-\u001b[0m \u001b[0;36m0.05\u001b[0m\u001b[0;34m)\u001b[0m \u001b[0;34m<\u001b[0m \u001b[0;36m1e-7\u001b[0m\u001b[0;34m:\u001b[0m\u001b[0;34m\u001b[0m\u001b[0;34m\u001b[0m\u001b[0m\n\u001b[1;32m     13\u001b[0m             \u001b[0mprint\u001b[0m\u001b[0;34m(\u001b[0m\u001b[0;34m'\\033[1m'\u001b[0m \u001b[0;34m+\u001b[0m \u001b[0mA1\u001b[0m\u001b[0;34m+\u001b[0m\u001b[0;34m' und '\u001b[0m\u001b[0;34m+\u001b[0m\u001b[0mi\u001b[0m\u001b[0;34m)\u001b[0m\u001b[0;34m\u001b[0m\u001b[0;34m\u001b[0m\u001b[0m\n\u001b[0;32m---> 14\u001b[0;31m             \u001b[0mNamen\u001b[0m\u001b[0;34m.\u001b[0m\u001b[0mappend\u001b[0m\u001b[0;34m(\u001b[0m\u001b[0mA1\u001b[0m\u001b[0;34m+\u001b[0m\u001b[0;34m' und '\u001b[0m\u001b[0;34m+\u001b[0m\u001b[0mi\u001b[0m\u001b[0;34m)\u001b[0m\u001b[0;34m\u001b[0m\u001b[0;34m\u001b[0m\u001b[0m\n\u001b[0m\u001b[1;32m     15\u001b[0m             \u001b[0mdisplay\u001b[0m\u001b[0;34m(\u001b[0m\u001b[0mres\u001b[0m\u001b[0;34m)\u001b[0m\u001b[0;34m\u001b[0m\u001b[0;34m\u001b[0m\u001b[0m\n\u001b[1;32m     16\u001b[0m             \u001b[0mcrosstab\u001b[0m \u001b[0;34m=\u001b[0m \u001b[0mcrosstab\u001b[0m\u001b[0;34m.\u001b[0m\u001b[0mjoin\u001b[0m\u001b[0;34m(\u001b[0m\u001b[0mcrosstab_rel\u001b[0m\u001b[0;34m,\u001b[0m \u001b[0mrsuffix\u001b[0m\u001b[0;34m=\u001b[0m\u001b[0;34m' in %'\u001b[0m\u001b[0;34m)\u001b[0m\u001b[0;34m\u001b[0m\u001b[0;34m\u001b[0m\u001b[0m\n",
      "\u001b[0;31mNameError\u001b[0m: name 'Namen' is not defined"
     ]
    }
   ],
   "source": [
    "Res_Tabellen = []\n",
    "X_Tabellen = []\n",
    "for s in sprecher:\n",
    "    #print(f'Sprecher {s}')\n",
    "    A1 = f'Polaritätsprofil {s}: leise/laut'\n",
    "    B1 = [f'Polaritätsprofil {s}: aufrichtig/unaufrichtig',f'Polaritätsprofil {s}: modern/traditionell',\n",
    "     f'Polaritätsprofil {s}: gewagt/bodenständig', f'Polaritätsprofil {s}: ruhig/temperamentvoll',f'Polaritätsprofil {s}: einfühlsam/unsensibel'] \n",
    "    for i in B1:\n",
    "        crosstab, res = rp.crosstab(df[A1], df[i],test = \"chi-square\")\n",
    "        crosstab_rel = rp.crosstab(df[A1], df[i],prop= \"cell\")\n",
    "        name = './/'+A1 + ' und ' + i + '.xlsx'\n",
    "        if (res['results'][1] - 0.05) < 1e-7:\n",
    "            print('\\033[1m' + A1+' und '+i)\n",
    "            Namen.append(A1+' und '+i)\n",
    "            display(res)\n",
    "            crosstab = crosstab.join(crosstab_rel, rsuffix=' in %')\n",
    "            Res_Tabellen.append(res)\n",
    "            X_Tabellen.append(crosstab)\n",
    "            display(crosstab)"
   ]
  },
  {
   "cell_type": "code",
   "execution_count": null,
   "metadata": {},
   "outputs": [],
   "source": [
    "for x,z in zip(Tabellen,range(len(Tabellen))):\n",
    "    x.to_excel('./Tabellen/results/'+str(z)+'.xlsx', sheet_name='Sheet_name_1')"
   ]
  },
  {
   "cell_type": "code",
   "execution_count": null,
   "metadata": {},
   "outputs": [],
   "source": [
    "for x,z in zip(X_Tabellen,range(len(Tabellen))):\n",
    "    x.to_excel('./Tabellen/crosstab/'+str(z)+'.xlsx', sheet_name='Sheet_name_1')"
   ]
  },
  {
   "cell_type": "code",
   "execution_count": null,
   "metadata": {},
   "outputs": [],
   "source": []
  }
 ],
 "metadata": {
  "kernelspec": {
   "display_name": "Python 3",
   "language": "python",
   "name": "python3"
  },
  "language_info": {
   "codemirror_mode": {
    "name": "ipython",
    "version": 3
   },
   "file_extension": ".py",
   "mimetype": "text/x-python",
   "name": "python",
   "nbconvert_exporter": "python",
   "pygments_lexer": "ipython3",
   "version": "3.8.5"
  }
 },
 "nbformat": 4,
 "nbformat_minor": 4
}
